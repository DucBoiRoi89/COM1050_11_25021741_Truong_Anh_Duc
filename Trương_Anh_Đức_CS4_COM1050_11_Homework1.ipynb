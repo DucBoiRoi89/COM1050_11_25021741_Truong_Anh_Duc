{
  "nbformat": 4,
  "nbformat_minor": 0,
  "metadata": {
    "colab": {
      "provenance": []
    },
    "kernelspec": {
      "name": "python3",
      "display_name": "Python 3"
    },
    "language_info": {
      "name": "python"
    }
  },
  "cells": [
    {
      "cell_type": "markdown",
      "source": [
        "Bài 1"
      ],
      "metadata": {
        "id": "_qAZH6jNy_cT"
      }
    },
    {
      "cell_type": "code",
      "source": [
        "n = int(input(\"Nhập vào số nguyên n: \"))\n",
        "so_gap_doi_n = n * 2\n",
        "print(\"Số gấp đôi n:\", so_gap_doi_n)"
      ],
      "metadata": {
        "colab": {
          "base_uri": "https://localhost:8080/"
        },
        "id": "eJH-9nj9zWL_",
        "outputId": "f9d65a5b-283b-4d0d-bf44-697ca32dbab8"
      },
      "execution_count": null,
      "outputs": [
        {
          "output_type": "stream",
          "name": "stdout",
          "text": [
            "Nhập vào số nguyên n: 32\n",
            "Số gấp đôi n: 64\n"
          ]
        }
      ]
    },
    {
      "cell_type": "markdown",
      "source": [
        "Bài 2"
      ],
      "metadata": {
        "id": "xXoStZ_ez_S2"
      }
    },
    {
      "cell_type": "code",
      "source": [
        "a = float(input(\"Giá trị chiều rộng khu đất là: \"))\n",
        "b = float(input(\"Giá trị chiều dài khu đất là: \"))\n",
        "dien_tich_hinh_chu_nhat = a * b\n",
        "dien_tich_hinh_tron = 3.14 * ((a / 2) ** 2)\n",
        "dien_tich_con_lai = dien_tich_hinh_chu_nhat - dien_tich_hinh_tron\n",
        "print(\"Phần diện tích còn lại để trồng cây là:\", round(dien_tich_con_lai, 2))\n"
      ],
      "metadata": {
        "colab": {
          "base_uri": "https://localhost:8080/"
        },
        "id": "IbjVyR--0I59",
        "outputId": "f8ff4cfe-e84f-4009-a746-7eb789557976"
      },
      "execution_count": null,
      "outputs": [
        {
          "output_type": "stream",
          "name": "stdout",
          "text": [
            "Giá trị chiều rộng khu đất là: 45\n",
            "Giá trị chiều dài khu đất là: 45\n",
            "Phần diện tích còn lại để trồng cây là: 435.38\n"
          ]
        }
      ]
    },
    {
      "cell_type": "markdown",
      "source": [
        "Bài 3"
      ],
      "metadata": {
        "id": "quRwdq0Qbi3l"
      }
    },
    {
      "cell_type": "code",
      "source": [
        "while True:\n",
        "  c = input(\"Kí tự cần nhập là: \")\n",
        "  ma_Unicode = ord(c)\n",
        "  if ma_Unicode >=65 and ma_Unicode <= 90:\n",
        "    ma_Unicode_chu_thuong = ma_Unicode + 32\n",
        "    print(\"Chữ thường của kí tự nhập là:\", chr(ma_Unicode_chu_thuong))\n",
        "    break\n",
        "  elif ma_Unicode >= 97 and ma_Unicode <= 122:\n",
        "    ma_Unicode_chu_hoa = ma_Unicode - 32\n",
        "    print(\"Chữ hoa của kí tự nhập là:\", chr(ma_Unicode_chu_hoa))\n",
        "    break\n",
        "  else:\n",
        "    print(\"Lỗi. Vui lòng nhập đúng kí tự dạng chữ cái\")\n",
        "    continue"
      ],
      "metadata": {
        "id": "YpLACxyLnKF_",
        "colab": {
          "base_uri": "https://localhost:8080/"
        },
        "outputId": "5085dee3-0f96-4495-87de-4a17bbf0b414"
      },
      "execution_count": null,
      "outputs": [
        {
          "output_type": "stream",
          "name": "stdout",
          "text": [
            "Kí tự cần nhập là: 7\n",
            "Lỗi. Vui lòng nhập đúng kí tự dạng chữ cái\n",
            "Kí tự cần nhập là: j\n",
            "Chữ hoa của kí tự nhập là: J\n"
          ]
        }
      ]
    },
    {
      "cell_type": "markdown",
      "source": [
        "Bài 4"
      ],
      "metadata": {
        "id": "sXkzWKMkosJZ"
      }
    },
    {
      "cell_type": "code",
      "source": [
        "c = input(\"Kí tự cần nhập là: \")\n",
        "if c.isalpha():\n",
        "  print(c, \"là kí tự alphabet\")\n",
        "else:\n",
        "  print(c, \"không phải là kí tự alphabet\")"
      ],
      "metadata": {
        "colab": {
          "base_uri": "https://localhost:8080/"
        },
        "id": "CYaVF_m7otia",
        "outputId": "1cc483e4-45f2-4320-bca8-5d616d9ec7b3"
      },
      "execution_count": null,
      "outputs": [
        {
          "output_type": "stream",
          "name": "stdout",
          "text": [
            "Kí tự cần nhập là: 3\n",
            "3 không phải là kí tự alphabet\n"
          ]
        }
      ]
    },
    {
      "cell_type": "markdown",
      "source": [
        "Bài 5"
      ],
      "metadata": {
        "id": "M1uRjNxACCKn"
      }
    },
    {
      "cell_type": "code",
      "source": [
        "c = input(\"Chữ cái hoa cần nhập là: \")\n",
        "ma_Unicode_chu_hoa = ord(c)\n",
        "ma_Unicode_chu_thuong = ma_Unicode_chu_hoa + 32\n",
        "print(\"Chữ cái thường liền trước chữ cái thường của chữ cái hoa đã nhập là:\", chr(ma_Unicode_chu_thuong -1))"
      ],
      "metadata": {
        "colab": {
          "base_uri": "https://localhost:8080/"
        },
        "id": "UquzCtMPDjY_",
        "outputId": "c0043252-b9ba-425f-97b2-a080e33fd3b4"
      },
      "execution_count": null,
      "outputs": [
        {
          "output_type": "stream",
          "name": "stdout",
          "text": [
            "Chữ cái hoa cần nhập là: D\n",
            "Chữ cái thường liền trước chữ cái thường của chữ cái hoa đã nhập là: c\n"
          ]
        }
      ]
    },
    {
      "cell_type": "markdown",
      "source": [
        "Bài 6"
      ],
      "metadata": {
        "id": "vNlWkrqjF1q9"
      }
    },
    {
      "cell_type": "code",
      "source": [
        "import math\n",
        "a, b, c = map(float, input(\"Giá trị a, b, c là: \").split())\n",
        "if a + b > c and b + c > a and a + c > b:\n",
        "  print(\"Đây là ba cạnh của một tam giác\")\n",
        "  cos_A = (b ** 2 + c ** 2 - a ** 2)/(2 * b * c)\n",
        "  sin_A = math.sqrt(1 - (cos_A ** 2))\n",
        "  S = 1/2 * b * c * sin_A\n",
        "  print(\"Diện tích của tam giác đó là:\", round(S , 1))\n",
        "else:\n",
        "  print(\"Không phải ba cạnh của tam giác\")"
      ],
      "metadata": {
        "colab": {
          "base_uri": "https://localhost:8080/"
        },
        "id": "BxPoYBYwF3A2",
        "outputId": "62465659-5d17-4e6b-d426-29f4ee86d066"
      },
      "execution_count": null,
      "outputs": [
        {
          "output_type": "stream",
          "name": "stdout",
          "text": [
            "Giá trị a, b, c là: 5 7 4\n",
            "Đây là ba cạnh của một tam giác\n",
            "Diện tích của tam giác đó là: 9.8\n"
          ]
        }
      ]
    },
    {
      "cell_type": "markdown",
      "source": [
        "Bài 7"
      ],
      "metadata": {
        "id": "Lgm_ydo8b8Cc"
      }
    },
    {
      "cell_type": "code",
      "source": [
        "chuoi = input(\"Chuỗi kí tự cần nhập vào là: \")\n",
        "if len(chuoi) >= 20:\n",
        "  print(\"Chữ cái thứ năm của chuỗi này là:\", chuoi[4])\n",
        "  print(\"Chữ cái thứ chín của chuỗi này là:\", chuoi[8])\n",
        "else:\n",
        "  print(\"Chuỗi đã nhập có số kí tự không đủ lớn hơn hoặc bằng 20 kí tự\")"
      ],
      "metadata": {
        "colab": {
          "base_uri": "https://localhost:8080/"
        },
        "id": "TUCs3WchdZA1",
        "outputId": "6dd69ce9-9b41-4b66-8cd8-b1186e0c5034"
      },
      "execution_count": null,
      "outputs": [
        {
          "output_type": "stream",
          "name": "stdout",
          "text": [
            "Chuỗi kí tự cần nhập vào là: Không phải không biết mà là suy nghĩ sẽ không phải không tốt\n",
            "Chữ cái thứ năm của chuỗi này là: g\n",
            "Chữ cái thứ chín của chuỗi này là: ả\n"
          ]
        }
      ]
    },
    {
      "cell_type": "markdown",
      "source": [
        "Bài 8"
      ],
      "metadata": {
        "id": "7f7hdmojkXuV"
      }
    },
    {
      "cell_type": "code",
      "source": [
        "ten = input(\"Tên chủ hộ là: \")\n",
        "chi_so_thang_truoc = float(input(\"Chỉ số tháng trước là: \"))\n",
        "chi_so_thang_nay = float(input(\"Chỉ số tháng này là: \"))\n",
        "so_dien_tieu_thu = chi_so_thang_nay - chi_so_thang_truoc\n",
        "print(\"Họ và tên:\", ten)\n",
        "if so_dien_tieu_thu >= 0 and so_dien_tieu_thu <= 50:\n",
        "  so_tien = so_dien_tieu_thu * 1984 * 1.08\n",
        "  print(\"Tiền phải trả là:\", round(so_tien))\n",
        "elif so_dien_tieu_thu >= 51 and so_dien_tieu_thu <= 100:\n",
        "  so_tien = so_dien_tieu_thu * 2050 * 1.08\n",
        "  print(\"Tiền phải trả là:\", round(so_tien))\n",
        "elif so_dien_tieu_thu >= 101 and so_dien_tieu_thu <= 200:\n",
        "  so_tien = so_dien_tieu_thu * 2380 * 1.08\n",
        "  print(\"Tiền phải trả là:\", round(so_tien))\n",
        "elif so_dien_tieu_thu >= 201 and so_dien_tieu_thu <= 300:\n",
        "  so_tien = so_dien_tieu_thu * 2998 * 1.08\n",
        "  print(\"Tiền phải trả là:\", round(so_tien))\n",
        "elif so_dien_tieu_thu >=301 and so_dien_tieu_thu <= 400:\n",
        "  so_tien = so_dien_tieu_thu * 3350 * 1.08\n",
        "  print(\"Tiền phải trả là:\", round(so_tien))\n",
        "elif so_dien_tieu_thu >= 401:\n",
        "  so_tien = so_dien_tieu_thu * 3460 * 1.08\n",
        "  print(\"Tiền phải trả là:\", round(so_tien))\n",
        "else:\n",
        "  print(\"Vui lòng nhập lại đúng chỉ số điện kế tháng trước và chỉ số điện kế tháng này\")"
      ],
      "metadata": {
        "colab": {
          "base_uri": "https://localhost:8080/"
        },
        "id": "JOrBLjFIFSpN",
        "outputId": "01b7523d-bbef-450e-d5d7-f01daa618ddc"
      },
      "execution_count": null,
      "outputs": [
        {
          "output_type": "stream",
          "name": "stdout",
          "text": [
            "Tên chủ hộ là: Trương Anh Đức\n",
            "Chỉ số tháng trước là: 12764\n",
            "Chỉ số tháng này là: 13766\n",
            "Họ và tên: Trương Anh Đức\n",
            "Tiền phải trả là: 3744274\n"
          ]
        }
      ]
    },
    {
      "cell_type": "markdown",
      "source": [
        "Một số bài tập khác"
      ],
      "metadata": {
        "id": "b4ERf-dOWKM1"
      }
    },
    {
      "cell_type": "markdown",
      "source": [
        "Bài 1"
      ],
      "metadata": {
        "id": "EZqawaSBWNnF"
      }
    },
    {
      "cell_type": "code",
      "source": [
        "so_nguyen = int(input(\"Số nguyên cần nhập là: \"))\n",
        "if so_nguyen % 2 == 0:\n",
        "  print(\"Số nguyên đã nhập là số chẵn\")\n",
        "else:\n",
        "  print(\"Số nguyên đã nhập là số lẻ\")"
      ],
      "metadata": {
        "colab": {
          "base_uri": "https://localhost:8080/"
        },
        "id": "YRBf_xbOWPDJ",
        "outputId": "f72abf40-0f1b-4a5e-e198-f2267d342f37"
      },
      "execution_count": null,
      "outputs": [
        {
          "output_type": "stream",
          "name": "stdout",
          "text": [
            "Số nguyên cần nhập là: 3\n",
            "Số nguyên đã nhập là số lẻ\n"
          ]
        }
      ]
    },
    {
      "cell_type": "markdown",
      "source": [
        "Bài 2"
      ],
      "metadata": {
        "id": "hDTNm7NaYqGs"
      }
    },
    {
      "cell_type": "code",
      "source": [
        "so_nguyen = int(input(\"Số nguyên cần nhập là: \"))\n",
        "if so_nguyen % 10 == 5:\n",
        "  print(\"True\")\n",
        "else:\n",
        "  print(\"False\")"
      ],
      "metadata": {
        "colab": {
          "base_uri": "https://localhost:8080/"
        },
        "id": "2cjahZ1sYrlA",
        "outputId": "53630a33-9392-47f9-d1e4-55674f13b9e0"
      },
      "execution_count": null,
      "outputs": [
        {
          "output_type": "stream",
          "name": "stdout",
          "text": [
            "Số nguyên cần nhập là: 45\n",
            "True\n"
          ]
        }
      ]
    },
    {
      "cell_type": "markdown",
      "source": [
        "Bài 3"
      ],
      "metadata": {
        "id": "K_G7XWXTZFEg"
      }
    },
    {
      "cell_type": "code",
      "source": [
        "so_nguyen = int(input(\"Số nguyên cần nhập là: \"))\n",
        "if so_nguyen % 3 == 0 and so_nguyen % 5 == 0:\n",
        "  print(\"True\")\n",
        "else:\n",
        "  print(\"False\")"
      ],
      "metadata": {
        "colab": {
          "base_uri": "https://localhost:8080/"
        },
        "id": "qktbRV0nZRnD",
        "outputId": "ce9a9a0c-2812-431e-a5cc-6d5707bd82ed"
      },
      "execution_count": null,
      "outputs": [
        {
          "output_type": "stream",
          "name": "stdout",
          "text": [
            "Số nguyên cần nhập là: 567\n",
            "False\n"
          ]
        }
      ]
    },
    {
      "cell_type": "markdown",
      "source": [
        "Bài 4"
      ],
      "metadata": {
        "id": "Otq8e9IXZ1Xn"
      }
    },
    {
      "cell_type": "code",
      "source": [
        "nam_sinh = int(input(\"Năm sinh của người đó là: \"))\n",
        "so_tuoi = 2025 - nam_sinh\n",
        "if so_tuoi >= 18:\n",
        "  print(\"Người đó đủ tuổi để đi bầu cử\")\n",
        "else:\n",
        "  print(\"Người đó không đủ tuổi để đi bầu cử\")"
      ],
      "metadata": {
        "colab": {
          "base_uri": "https://localhost:8080/"
        },
        "id": "9-gFCcFuZ5R-",
        "outputId": "d734ed41-4a32-49b2-e346-408b36a623fd"
      },
      "execution_count": null,
      "outputs": [
        {
          "output_type": "stream",
          "name": "stdout",
          "text": [
            "Năm sinh của người đó là: 1519\n",
            "Người đó đủ tuổi để đi bầu cử\n"
          ]
        }
      ]
    },
    {
      "cell_type": "markdown",
      "source": [
        "Bài 5"
      ],
      "metadata": {
        "id": "GxrYGeAxa5vZ"
      }
    },
    {
      "cell_type": "code",
      "source": [
        "so_thu_nhat, so_thu_hai = map(float, input(\"Nhập hai số cần so sánh:\").split())\n",
        "if so_thu_nhat > so_thu_hai:\n",
        "  print(\"Số lớn hơn là số thứ nhất:\", so_thu_nhat)\n",
        "elif so_thu_nhat < so_thu_hai:\n",
        "  print(\"Số lớn hơn là số thứ hai:\", so_thu_hai)\n",
        "else:\n",
        "  print(\"Hai số bằng nhau\")"
      ],
      "metadata": {
        "colab": {
          "base_uri": "https://localhost:8080/"
        },
        "id": "PIjkjlPza7AI",
        "outputId": "0a33785e-9139-44ff-b57c-af6e1e690904"
      },
      "execution_count": null,
      "outputs": [
        {
          "output_type": "stream",
          "name": "stdout",
          "text": [
            "Nhập hai số cần so sánh:4 5\n",
            "Số lớn hơn là số thứ hai: 5.0\n"
          ]
        }
      ]
    },
    {
      "cell_type": "markdown",
      "source": [
        "Bài 6"
      ],
      "metadata": {
        "id": "WQksHfFjcj5w"
      }
    },
    {
      "cell_type": "code",
      "source": [
        "ki_tu = input(\"Kí tự nhập vào là: \")\n",
        "ma_Unicode = ord(ki_tu)\n",
        "if ma_Unicode >= 65 and ma_Unicode <= 122:\n",
        "  print(\"Kí tự đã nhập vào là chữ cái\")\n",
        "elif ma_Unicode >= 48 and ma_Unicode <= 57:\n",
        "  print(\"Kí tự đã nhập vào là số\")\n",
        "else:\n",
        "  print(\"Kí tự đã nhập không phải chữ cái và không phải số\")"
      ],
      "metadata": {
        "colab": {
          "base_uri": "https://localhost:8080/"
        },
        "id": "pB4eFg1iclIH",
        "outputId": "583aa681-5f62-480a-baa3-58312dcec0b2"
      },
      "execution_count": null,
      "outputs": [
        {
          "output_type": "stream",
          "name": "stdout",
          "text": [
            "Kí tự nhập vào là: 4\n",
            "Kí tự đã nhập vào là số\n"
          ]
        }
      ]
    },
    {
      "cell_type": "markdown",
      "source": [
        "Bài 7"
      ],
      "metadata": {
        "id": "7SxTiSiZi3yB"
      }
    },
    {
      "cell_type": "code",
      "source": [
        "diem = float(input(\"Điểm học lực là: \"))\n",
        "if diem >= 8:\n",
        "  print(\"Học lực giỏi\")\n",
        "elif diem > 6.5 and diem < 8:\n",
        "  print(\"Học lực khá\")\n",
        "elif diem >= 5 and diem < 6.5:\n",
        "  print(\"Học lực trung bình\")\n",
        "else:\n",
        "  print(\"Học lực yếu\")"
      ],
      "metadata": {
        "colab": {
          "base_uri": "https://localhost:8080/"
        },
        "id": "SOF6x_U9i57N",
        "outputId": "33c6e178-1310-43ed-f88a-7d8d7b525771"
      },
      "execution_count": null,
      "outputs": [
        {
          "output_type": "stream",
          "name": "stdout",
          "text": [
            "Điểm học lực là: 8.9\n",
            "Học lực giỏi\n"
          ]
        }
      ]
    },
    {
      "cell_type": "markdown",
      "source": [
        "Bài 8"
      ],
      "metadata": {
        "id": "_vm7F3b37QAy"
      }
    },
    {
      "cell_type": "code",
      "source": [
        "nam = int(input(\"Năm cần kiểm tra là: \"))\n",
        "if nam % 400 == 0 or (nam % 4 == 0 and nam % 100 != 0):\n",
        "  print(\"Năm đã nhập là năm nhuận\")\n",
        "else:\n",
        "  print(\"Năm đã nhập không phải là năm nhuận\")"
      ],
      "metadata": {
        "colab": {
          "base_uri": "https://localhost:8080/"
        },
        "id": "7vbXvj1d7V1v",
        "outputId": "a77789d6-ad77-48ec-d160-0bf40cf9b291"
      },
      "execution_count": null,
      "outputs": [
        {
          "output_type": "stream",
          "name": "stdout",
          "text": [
            "Năm cần kiểm tra là: 490\n",
            "Năm đã nhập không phải là năm nhuận\n"
          ]
        }
      ]
    },
    {
      "cell_type": "markdown",
      "source": [
        "Bài 9"
      ],
      "metadata": {
        "id": "CnF1xZbZ8mc9"
      }
    },
    {
      "cell_type": "code",
      "source": [
        "so_nguyen = int(input(\"Nhập số nguyên cần chuyển đổi tại đây: \"))\n",
        "match so_nguyen:\n",
        "  case 0:\n",
        "    print(\"Không\")\n",
        "  case 1:\n",
        "    print(\"Một\")\n",
        "  case 2:\n",
        "    print(\"Hai\")\n",
        "  case 3:\n",
        "    print(\"Ba\")\n",
        "  case 4:\n",
        "    print(\"Bốn\")\n",
        "  case 5:\n",
        "    print(\"Năm\")\n",
        "  case 6:\n",
        "    print(\"Sáu\")\n",
        "  case 7:\n",
        "    print(\"Bảy\")\n",
        "  case 8:\n",
        "    print(\"Tám\")\n",
        "  case 9:\n",
        "    print(\"Tám\")\n",
        "  case _:\n",
        "    print(\"Giá trị không hợp lệ\")"
      ],
      "metadata": {
        "colab": {
          "base_uri": "https://localhost:8080/"
        },
        "id": "15JfuiW98oGm",
        "outputId": "33a60102-e3c5-4b8b-ff44-1bee1211d7e8"
      },
      "execution_count": null,
      "outputs": [
        {
          "output_type": "stream",
          "name": "stdout",
          "text": [
            "Nhập số nguyên cần chuyển đổi tại đây: 598\n",
            "Giá trị không hợp lệ\n"
          ]
        }
      ]
    },
    {
      "cell_type": "markdown",
      "source": [
        "Bài 10"
      ],
      "metadata": {
        "id": "Ub-L2zi4_ieZ"
      }
    },
    {
      "cell_type": "code",
      "source": [
        "diem_thi = float(input(\"Nhập điểm thi tại đây: \"))\n",
        "match diem_thi:\n",
        "  case diem_thi if diem_thi >= 4 and diem_thi <= 10:\n",
        "    print(\"Qua môn\")\n",
        "  case diem_thi if diem_thi < 4:\n",
        "    print(\"Học lại\")\n",
        "  case _:\n",
        "    print(\"Giá trị không hợp lệ\")"
      ],
      "metadata": {
        "colab": {
          "base_uri": "https://localhost:8080/"
        },
        "id": "7eHsOpKV_kyt",
        "outputId": "dbc2f895-e34e-4f35-b020-8bbf9a8f5fc6"
      },
      "execution_count": null,
      "outputs": [
        {
          "output_type": "stream",
          "name": "stdout",
          "text": [
            "Nhập điểm thi tại đây: 9.8\n",
            "Qua môn\n"
          ]
        }
      ]
    },
    {
      "cell_type": "markdown",
      "source": [
        "Bài 11"
      ],
      "metadata": {
        "id": "CdRNgB9kBZFO"
      }
    },
    {
      "cell_type": "code",
      "source": [
        "nam_sinh = int(input(\"Năm sinh của bạn là: \"))\n",
        "so_tuoi = 2025 - nam_sinh\n",
        "match so_tuoi:\n",
        "  case so_tuoi if so_tuoi > 18:\n",
        "    print(\"Tuổi bạn đã lớn hơn 18 tuổi\")\n",
        "  case so_tuoi if so_tuoi == 18:\n",
        "    print(\"Bạn đã đủ 18 tuổi\")\n",
        "  case so_tuoi if so_tuoi < 18:\n",
        "    print(\"Bạn chưa đủ 18 tuổi\")"
      ],
      "metadata": {
        "colab": {
          "base_uri": "https://localhost:8080/"
        },
        "id": "Cl3USrpMBZ8o",
        "outputId": "a8d06193-48cb-4fa9-dc96-e4c2482f2147"
      },
      "execution_count": null,
      "outputs": [
        {
          "output_type": "stream",
          "name": "stdout",
          "text": [
            "Năm sinh của bạn là: 1878\n",
            "Tuổi bạn đã lớn hơn 18 tuổi\n"
          ]
        }
      ]
    }
  ]
}